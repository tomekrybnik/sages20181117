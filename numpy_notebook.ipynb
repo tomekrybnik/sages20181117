{
 "cells": [
  {
   "cell_type": "markdown",
   "metadata": {},
   "source": [
    "# Numpy training\n",
    "\n",
    "![Numpy image](http://www.numpy.org/_static/numpy_logo.png)\n",
    "___\n",
    "\n",
    "Author: Kamil Pazik\n",
    "\n",
    "email: pazik.kamil@gmail.com\n",
    "\n",
    "phone: +48 721 114 737\n",
    "\n",
    "linkedIn: https://www.linkedin.com/in/kamil-pazik/\n",
    "\n",
    "facebook: https://www.facebook.com/kamil.pazik"
   ]
  },
  {
   "cell_type": "markdown",
   "metadata": {},
   "source": [
    "## TOC\n",
    "1. [About numpy](#About-numpy)\n",
    "2. [Numpy types](#Numpy-types)\n",
    "3. [Aranging data](#Aranging-data)\n",
    "4. [Operations on data](#Operations-on-data)\n",
    "5. [Functions and math operations](#Functions-and-math-operations)\n",
    "6. [Polynomials](#Polynomials)"
   ]
  },
  {
   "cell_type": "markdown",
   "metadata": {},
   "source": [
    "## About numpy\n",
    "* Python library,\n",
    "* Adds support for huge arrays/matrices,\n",
    "* Adds high-level mathematical functions,\n",
    "* Quicker than lists,\n",
    "* Memory efficent"
   ]
  },
  {
   "cell_type": "markdown",
   "metadata": {},
   "source": [
    "## Przetwarzanie numeryczne"
   ]
  },
  {
   "cell_type": "code",
   "execution_count": 204,
   "metadata": {},
   "outputs": [
    {
     "name": "stdout",
     "output_type": "stream",
     "text": [
      "422 µs ± 29 µs per loop (mean ± std. dev. of 7 runs, 250 loops each)\n",
      "2.28 µs ± 1.22 µs per loop (mean ± std. dev. of 7 runs, 250 loops each)\n"
     ]
    }
   ],
   "source": [
    "import numpy as np\n",
    "\n",
    "L = range(1000)\n",
    "%timeit -n 250 [i**2 for i in L]\n",
    "\n",
    "a = np.arange(1000)\n",
    "%timeit -n 250 a**2"
   ]
  },
  {
   "cell_type": "code",
   "execution_count": 205,
   "metadata": {},
   "outputs": [
    {
     "name": "stdout",
     "output_type": "stream",
     "text": [
      "1.98 ms ± 102 µs per loop (mean ± std. dev. of 7 runs, 250 loops each)\n",
      "45 µs ± 9.29 µs per loop (mean ± std. dev. of 7 runs, 250 loops each)\n"
     ]
    }
   ],
   "source": [
    "from random import random\n",
    "\n",
    "c = [random() for i in range (100000)]\n",
    "%timeit -n 250 min(c)\n",
    "\n",
    "c = np.array(c)\n",
    "%timeit -n 250 np.min(c)"
   ]
  },
  {
   "cell_type": "markdown",
   "metadata": {},
   "source": [
    "## Numpy types"
   ]
  },
  {
   "cell_type": "code",
   "execution_count": 38,
   "metadata": {},
   "outputs": [
    {
     "data": {
      "text/plain": [
       "(<function numpy.core.multiarray.array>, numpy.matrixlib.defmatrix.matrix)"
      ]
     },
     "execution_count": 38,
     "metadata": {},
     "output_type": "execute_result"
    }
   ],
   "source": [
    "np.array, np.matrix"
   ]
  },
  {
   "cell_type": "markdown",
   "metadata": {},
   "source": [
    "### Creating array\n",
    "* We can create an array using [__array__](https://docs.scipy.org/doc/numpy-1.15.1/reference/generated/numpy.array.html) function"
   ]
  },
  {
   "cell_type": "code",
   "execution_count": 39,
   "metadata": {},
   "outputs": [
    {
     "name": "stdout",
     "output_type": "stream",
     "text": [
      "1\n",
      "(3,)\n",
      "int64\n",
      "2\n",
      "(2, 3)\n",
      "int64\n",
      "3\n",
      "(1, 3, 3)\n",
      "int64\n",
      "3\n",
      "(2, 3, 3)\n",
      "int64\n"
     ]
    }
   ],
   "source": [
    "one_d_array = np.array([1, 2, 3])\n",
    "two_d_array = np.array([[1,2,3],[4,5,6]])\n",
    "three_d_array = np.array([\n",
    "    [\n",
    "        [1, 2, 3], [4, 5, 6], [7, 8, 9]\n",
    "    ]]\n",
    ")\n",
    "\n",
    "three_d_array_planes = np.array([\n",
    "    [\n",
    "        [1, 2, 3], [4, 5, 6], [7, 8, 9]\n",
    "    ],\n",
    "    [\n",
    "        [1, 2, 3], [4, 5, 6], [7, 8, 9]\n",
    "    ]\n",
    "]\n",
    ")\n",
    "\n",
    "print(one_d_array.ndim)\n",
    "print(one_d_array.shape)\n",
    "print(one_d_array.dtype)\n",
    "\n",
    "print(two_d_array.ndim)\n",
    "print(two_d_array.shape)\n",
    "print(two_d_array.dtype)\n",
    "\n",
    "print(three_d_array.ndim)\n",
    "print(three_d_array.shape)\n",
    "print(three_d_array.dtype)\n",
    "\n",
    "print(three_d_array_planes.ndim)\n",
    "print(three_d_array_planes.shape)\n",
    "print(three_d_array_planes.dtype)"
   ]
  },
  {
   "cell_type": "code",
   "execution_count": 40,
   "metadata": {},
   "outputs": [],
   "source": [
    "x = [1,2,3]\n",
    "a = np.asarray(x, dtype = float) "
   ]
  },
  {
   "cell_type": "code",
   "execution_count": 41,
   "metadata": {},
   "outputs": [
    {
     "data": {
      "text/plain": [
       "numpy.ndarray"
      ]
     },
     "execution_count": 41,
     "metadata": {},
     "output_type": "execute_result"
    }
   ],
   "source": [
    "type(a)"
   ]
  },
  {
   "cell_type": "code",
   "execution_count": 42,
   "metadata": {},
   "outputs": [
    {
     "data": {
      "text/plain": [
       "array([ 0,  1,  4,  9, 16, 25])"
      ]
     },
     "execution_count": 42,
     "metadata": {},
     "output_type": "execute_result"
    }
   ],
   "source": [
    "np.fromiter((x ** 2 for x in range(100)), dtype=np.int, count = 6)"
   ]
  },
  {
   "cell_type": "markdown",
   "metadata": {},
   "source": [
    "### Arrays Exercises\n",
    "* You are given a space separated list of numbers (list_of_numbers = 1, 2, 3, 4, -8, -10)\n",
    "* Your task is to print a reversed NumPy array with the element type float.\n",
    "  * Sample output:\n",
    "        [-10.  -8.   4.   3.   2.   1.]\n",
    "* *__Extra__ Let use type input values"
   ]
  },
  {
   "cell_type": "markdown",
   "metadata": {},
   "source": [
    "## Aranging data\n",
    "In order to arange data we can use [__arange__ function](https://docs.scipy.org/doc/numpy-1.15.0/reference/generated/numpy.arange.html)"
   ]
  },
  {
   "cell_type": "code",
   "execution_count": 43,
   "metadata": {},
   "outputs": [],
   "source": [
    "?np.arange"
   ]
  },
  {
   "cell_type": "code",
   "execution_count": 20,
   "metadata": {},
   "outputs": [
    {
     "data": {
      "text/plain": [
       "(numpy.ndarray, numpy.float64)"
      ]
     },
     "execution_count": 20,
     "metadata": {},
     "output_type": "execute_result"
    }
   ],
   "source": [
    "arr = np.arange(1e3)\n",
    "type(arr), type(arr[0])"
   ]
  },
  {
   "cell_type": "code",
   "execution_count": 21,
   "metadata": {},
   "outputs": [
    {
     "data": {
      "text/plain": [
       "1000"
      ]
     },
     "execution_count": 21,
     "metadata": {},
     "output_type": "execute_result"
    }
   ],
   "source": [
    "len(arr)"
   ]
  },
  {
   "cell_type": "markdown",
   "metadata": {},
   "source": [
    "To show array dimensions we can use:"
   ]
  },
  {
   "cell_type": "code",
   "execution_count": 22,
   "metadata": {},
   "outputs": [
    {
     "data": {
      "text/plain": [
       "1"
      ]
     },
     "execution_count": 22,
     "metadata": {},
     "output_type": "execute_result"
    }
   ],
   "source": [
    "arr.ndim"
   ]
  },
  {
   "cell_type": "code",
   "execution_count": 23,
   "metadata": {},
   "outputs": [
    {
     "data": {
      "text/plain": [
       "8"
      ]
     },
     "execution_count": 23,
     "metadata": {},
     "output_type": "execute_result"
    }
   ],
   "source": [
    "arr.itemsize"
   ]
  },
  {
   "cell_type": "code",
   "execution_count": 24,
   "metadata": {},
   "outputs": [],
   "source": [
    "arr_with_step = np.arange(3, 90, 2)\n",
    "# step = 2, 3, 5, 7, 9, ..."
   ]
  },
  {
   "cell_type": "code",
   "execution_count": 25,
   "metadata": {},
   "outputs": [
    {
     "name": "stdout",
     "output_type": "stream",
     "text": [
      "<class 'numpy.int64'>\n",
      "8\n"
     ]
    }
   ],
   "source": [
    "print(type(arr_with_step[0]))\n",
    "print(arr.itemsize)\n",
    "# 64 bits = 8 bytes"
   ]
  },
  {
   "cell_type": "markdown",
   "metadata": {},
   "source": [
    "There is a way to use [__linespace__](https://docs.scipy.org/doc/numpy-1.15.0/reference/generated/numpy.linspace.html)"
   ]
  },
  {
   "cell_type": "code",
   "execution_count": 26,
   "metadata": {},
   "outputs": [],
   "source": [
    "generated_data = np.linspace(1.0, 12.0, num=5, dtype=np.int16)\n",
    "# 16 bits = 2 bytes"
   ]
  },
  {
   "cell_type": "code",
   "execution_count": 27,
   "metadata": {},
   "outputs": [
    {
     "data": {
      "text/plain": [
       "2"
      ]
     },
     "execution_count": 27,
     "metadata": {},
     "output_type": "execute_result"
    }
   ],
   "source": [
    "generated_data.itemsize"
   ]
  },
  {
   "cell_type": "markdown",
   "metadata": {},
   "source": [
    "### Preloaded values in arrays"
   ]
  },
  {
   "cell_type": "code",
   "execution_count": 64,
   "metadata": {},
   "outputs": [
    {
     "name": "stdout",
     "output_type": "stream",
     "text": [
      "(3, 3)\n",
      "[[1. 1. 1.]\n",
      " [1. 1. 1.]\n",
      " [1. 1. 1.]]\n"
     ]
    }
   ],
   "source": [
    "a = np.ones((3, 3))\n",
    "print(a.shape)\n",
    "print(a)"
   ]
  },
  {
   "cell_type": "markdown",
   "metadata": {},
   "source": [
    "Creating array with zeros"
   ]
  },
  {
   "cell_type": "code",
   "execution_count": 65,
   "metadata": {},
   "outputs": [
    {
     "data": {
      "text/plain": [
       "array([[0., 0.],\n",
       "       [0., 0.]])"
      ]
     },
     "execution_count": 65,
     "metadata": {},
     "output_type": "execute_result"
    }
   ],
   "source": [
    "np.zeros((2, 2))"
   ]
  },
  {
   "cell_type": "markdown",
   "metadata": {},
   "source": [
    "Creating array filled with value"
   ]
  },
  {
   "cell_type": "code",
   "execution_count": 66,
   "metadata": {},
   "outputs": [
    {
     "data": {
      "text/plain": [
       "array([[5, 5, 5],\n",
       "       [5, 5, 5]])"
      ]
     },
     "execution_count": 66,
     "metadata": {},
     "output_type": "execute_result"
    }
   ],
   "source": [
    "np.full((2, 3), 5)"
   ]
  },
  {
   "cell_type": "markdown",
   "metadata": {},
   "source": [
    "### Arrays Exercises 2\n",
    "Task\n",
    "\n",
    "You are given the shape of the array in the form of space-separated integers, each integer representing the size of different dimensions, your task is to print an array of the given shape and integer type using the tools numpy.zeros and numpy.ones.\n",
    "\n",
    "Input Format\n",
    "\n",
    "A single line containing the space-separated integers.\n",
    "\n",
    "Output Format\n",
    "\n",
    "First, print the array using the numpy.zeros tool and then print the array with the numpy.ones tool.\n",
    "\n",
    "ex. input\n",
    "3 3 3 "
   ]
  },
  {
   "cell_type": "markdown",
   "metadata": {},
   "source": [
    "### [identity](https://docs.scipy.org/doc/numpy/reference/generated/numpy.identity.html#numpy.identity) table \n",
    "\n",
    "square matrix with all the main diagonal elements as 1 and the rest as 0"
   ]
  },
  {
   "cell_type": "code",
   "execution_count": 96,
   "metadata": {},
   "outputs": [
    {
     "name": "stdout",
     "output_type": "stream",
     "text": [
      "[[1. 0. 0.]\n",
      " [0. 1. 0.]\n",
      " [0. 0. 1.]]\n"
     ]
    }
   ],
   "source": [
    "print(np.identity(3)) #3 is for  dimension 3 X 3"
   ]
  },
  {
   "cell_type": "markdown",
   "metadata": {},
   "source": [
    "### [eye](https://docs.scipy.org/doc/numpy/reference/generated/numpy.eye.html#numpy-eye) table"
   ]
  },
  {
   "cell_type": "code",
   "execution_count": 98,
   "metadata": {},
   "outputs": [
    {
     "data": {
      "text/plain": [
       "array([[0., 1., 0., 0., 0., 0., 0.],\n",
       "       [0., 0., 1., 0., 0., 0., 0.],\n",
       "       [0., 0., 0., 1., 0., 0., 0.],\n",
       "       [0., 0., 0., 0., 1., 0., 0.],\n",
       "       [0., 0., 0., 0., 0., 1., 0.],\n",
       "       [0., 0., 0., 0., 0., 0., 1.],\n",
       "       [0., 0., 0., 0., 0., 0., 0.],\n",
       "       [0., 0., 0., 0., 0., 0., 0.]])"
      ]
     },
     "execution_count": 98,
     "metadata": {},
     "output_type": "execute_result"
    }
   ],
   "source": [
    "np.eye(8, 7, k = 1)    # 8 X 7 Dimensional array with first upper diagonal 1."
   ]
  },
  {
   "cell_type": "markdown",
   "metadata": {},
   "source": [
    "### Arrays Exercises 3\n",
    "\n",
    "Task\n",
    "\n",
    "Your task is to print an array of size **N x M** with its main diagonal elements as **1's** and **0's** everywhere else.\n",
    "\n",
    "Input Format\n",
    "\n",
    "A single line containing the space separated values of **N and  M**. \n",
    "\n",
    "**N** denotes the rows. \n",
    "\n",
    "**M** denotes the columns.\n",
    "\n",
    "Output Format\n",
    "\n",
    "Print the desired **N x M** array."
   ]
  },
  {
   "cell_type": "markdown",
   "metadata": {},
   "source": [
    "### Creating random values array"
   ]
  },
  {
   "cell_type": "code",
   "execution_count": 128,
   "metadata": {},
   "outputs": [
    {
     "name": "stdout",
     "output_type": "stream",
     "text": [
      "[3 3 3 4 2 4 3 2 4 2 4 3 2 4 3]\n"
     ]
    }
   ],
   "source": [
    "grades = np.random.randint(2, 5, 15)\n",
    "print(grades)"
   ]
  },
  {
   "cell_type": "markdown",
   "metadata": {},
   "source": [
    "Sorting values"
   ]
  },
  {
   "cell_type": "code",
   "execution_count": 129,
   "metadata": {},
   "outputs": [
    {
     "name": "stdout",
     "output_type": "stream",
     "text": [
      "[2 2 2 2 3 3 3 3 3 3 4 4 4 4 4]\n"
     ]
    }
   ],
   "source": [
    "grades.sort() # inplace\n",
    "print(grades)"
   ]
  },
  {
   "cell_type": "markdown",
   "metadata": {},
   "source": [
    "Shuffling values"
   ]
  },
  {
   "cell_type": "code",
   "execution_count": 131,
   "metadata": {},
   "outputs": [
    {
     "name": "stdout",
     "output_type": "stream",
     "text": [
      "[3 4 3 4 2 3 3 3 2 2 4 4 2 3 4]\n"
     ]
    }
   ],
   "source": [
    "np.random.shuffle(grades)\n",
    "print(grades)"
   ]
  },
  {
   "cell_type": "markdown",
   "metadata": {},
   "source": [
    "### Create random samples from a normal (Gaussian) distribution"
   ]
  },
  {
   "cell_type": "markdown",
   "metadata": {},
   "source": [
    "generating normal distribution values, setting up seed value"
   ]
  },
  {
   "cell_type": "code",
   "execution_count": 79,
   "metadata": {},
   "outputs": [],
   "source": [
    "np.random.seed(100)\n",
    "girls = np.random.normal(160, 5, 100)"
   ]
  },
  {
   "cell_type": "markdown",
   "metadata": {},
   "source": [
    "printing varimance,"
   ]
  },
  {
   "cell_type": "code",
   "execution_count": 133,
   "metadata": {},
   "outputs": [
    {
     "data": {
      "text/plain": [
       "(23.51049760335395,\n",
       " 147.56424232388616,\n",
       " 170.17303780752468,\n",
       " 159.47917073077969,\n",
       " 4.848762481639408,\n",
       " 4.848762481639408)"
      ]
     },
     "execution_count": 133,
     "metadata": {},
     "output_type": "execute_result"
    }
   ],
   "source": [
    "girls.var(), girls.min(), girls.max(), girls.mean(), girls.std(), np.sqrt(girls.var())"
   ]
  },
  {
   "cell_type": "code",
   "execution_count": 81,
   "metadata": {},
   "outputs": [
    {
     "data": {
      "text/plain": [
       "(28.305649293246024, 171.4932697035684, 5.320305375939056)"
      ]
     },
     "execution_count": 81,
     "metadata": {},
     "output_type": "execute_result"
    }
   ],
   "source": [
    "girls = np.random.normal(160, 5, 100)\n",
    "girls.var(), girls.max(), girls.std()"
   ]
  },
  {
   "cell_type": "markdown",
   "metadata": {},
   "source": [
    "### Getting into data\n",
    "* In order to retreive data or manipulate data we can use slicing."
   ]
  },
  {
   "cell_type": "code",
   "execution_count": 134,
   "metadata": {},
   "outputs": [
    {
     "data": {
      "text/plain": [
       "array([3, 4, 3, 4, 2, 3, 3, 3, 2, 2, 4, 4, 2, 3, 4])"
      ]
     },
     "execution_count": 134,
     "metadata": {},
     "output_type": "execute_result"
    }
   ],
   "source": [
    "grades"
   ]
  },
  {
   "cell_type": "code",
   "execution_count": 140,
   "metadata": {},
   "outputs": [],
   "source": [
    "indices = [1, 2, 6]"
   ]
  },
  {
   "cell_type": "code",
   "execution_count": 142,
   "metadata": {},
   "outputs": [
    {
     "data": {
      "text/plain": [
       "array([4, 3, 3])"
      ]
     },
     "execution_count": 142,
     "metadata": {},
     "output_type": "execute_result"
    }
   ],
   "source": [
    "grades[indices]"
   ]
  },
  {
   "cell_type": "code",
   "execution_count": 143,
   "metadata": {},
   "outputs": [
    {
     "data": {
      "text/plain": [
       "array([4, 3])"
      ]
     },
     "execution_count": 143,
     "metadata": {},
     "output_type": "execute_result"
    }
   ],
   "source": [
    "grades[1:3]"
   ]
  },
  {
   "cell_type": "code",
   "execution_count": 235,
   "metadata": {},
   "outputs": [
    {
     "data": {
      "text/plain": [
       "array([165.76517901, 165.14866343, 168.0949083 , 167.70802587,\n",
       "       166.80778063, 165.94811134, 166.49874037, 167.35356933,\n",
       "       166.24734871, 165.1346072 , 169.38286713, 169.15968041])"
      ]
     },
     "execution_count": 235,
     "metadata": {},
     "output_type": "execute_result"
    }
   ],
   "source": [
    "girls[(girls > 165) & (girls < 170)]"
   ]
  },
  {
   "cell_type": "code",
   "execution_count": 234,
   "metadata": {},
   "outputs": [
    {
     "data": {
      "text/plain": [
       "1"
      ]
     },
     "execution_count": 234,
     "metadata": {},
     "output_type": "execute_result"
    }
   ],
   "source": [
    "girls.ndim"
   ]
  },
  {
   "cell_type": "code",
   "execution_count": 239,
   "metadata": {},
   "outputs": [
    {
     "data": {
      "text/plain": [
       "array([False,  True])"
      ]
     },
     "execution_count": 239,
     "metadata": {},
     "output_type": "execute_result"
    }
   ],
   "source": [
    "np.all([[True,False],[True,True]], axis=1)"
   ]
  },
  {
   "cell_type": "code",
   "execution_count": 238,
   "metadata": {},
   "outputs": [
    {
     "data": {
      "text/plain": [
       "array([ True, False])"
      ]
     },
     "execution_count": 238,
     "metadata": {},
     "output_type": "execute_result"
    }
   ],
   "source": [
    "np.all([[True,False],[True,True]], axis=0)"
   ]
  },
  {
   "cell_type": "markdown",
   "metadata": {},
   "source": [
    "* or we can select values based onresult of Boolean operations"
   ]
  },
  {
   "cell_type": "code",
   "execution_count": 69,
   "metadata": {},
   "outputs": [
    {
     "data": {
      "text/plain": [
       "array([ True,  True, False, False, False, False,  True, False, False,\n",
       "       False, False, False, False, False, False])"
      ]
     },
     "execution_count": 69,
     "metadata": {},
     "output_type": "execute_result"
    }
   ],
   "source": [
    "grades < 3"
   ]
  },
  {
   "cell_type": "code",
   "execution_count": 201,
   "metadata": {},
   "outputs": [
    {
     "data": {
      "text/plain": [
       "array([3, 4, 3, 4, 3, 3, 3, 4, 4, 3, 4])"
      ]
     },
     "execution_count": 201,
     "metadata": {},
     "output_type": "execute_result"
    }
   ],
   "source": [
    "grades[(grades >= 3) & (grades < 5)]"
   ]
  },
  {
   "cell_type": "code",
   "execution_count": 68,
   "metadata": {},
   "outputs": [
    {
     "name": "stdout",
     "output_type": "stream",
     "text": [
      "[1. 2. 3. 4. 5.]\n"
     ]
    }
   ],
   "source": [
    "a = np.array([np.nan, 1,2,np.nan,3,4,5]) \n",
    "print(a[~np.isnan(a)])"
   ]
  },
  {
   "cell_type": "code",
   "execution_count": 70,
   "metadata": {},
   "outputs": [
    {
     "data": {
      "text/plain": [
       "array([ True, False, False,  True, False, False, False])"
      ]
     },
     "execution_count": 70,
     "metadata": {},
     "output_type": "execute_result"
    }
   ],
   "source": [
    "np.isnan(a)"
   ]
  },
  {
   "cell_type": "code",
   "execution_count": 71,
   "metadata": {},
   "outputs": [
    {
     "data": {
      "text/plain": [
       "array([False,  True,  True, False,  True,  True,  True])"
      ]
     },
     "execution_count": 71,
     "metadata": {},
     "output_type": "execute_result"
    }
   ],
   "source": [
    "~np.isnan(a)"
   ]
  },
  {
   "cell_type": "code",
   "execution_count": 86,
   "metadata": {},
   "outputs": [
    {
     "data": {
      "text/plain": [
       "array([3, 3, 3, 7, 3, 7, 3, 3, 7, 3, 7, 3, 3, 7, 3])"
      ]
     },
     "execution_count": 86,
     "metadata": {},
     "output_type": "execute_result"
    }
   ],
   "source": [
    "3 | grades"
   ]
  },
  {
   "cell_type": "markdown",
   "metadata": {},
   "source": [
    "### Reshaping data"
   ]
  },
  {
   "cell_type": "code",
   "execution_count": 4,
   "metadata": {},
   "outputs": [],
   "source": [
    "array_to_reshape = np.arange(3, 15, 2)"
   ]
  },
  {
   "cell_type": "code",
   "execution_count": 5,
   "metadata": {},
   "outputs": [
    {
     "data": {
      "text/plain": [
       "array([ 3,  5,  7,  9, 11, 13])"
      ]
     },
     "execution_count": 5,
     "metadata": {},
     "output_type": "execute_result"
    }
   ],
   "source": [
    "array_to_reshape.flatten() # shapes to flat array"
   ]
  },
  {
   "cell_type": "code",
   "execution_count": 6,
   "metadata": {},
   "outputs": [
    {
     "data": {
      "text/plain": [
       "[3, 5, 7, 9, 11, 13]"
      ]
     },
     "execution_count": 6,
     "metadata": {},
     "output_type": "execute_result"
    }
   ],
   "source": [
    "array_to_reshape.tolist() # shapes to list"
   ]
  },
  {
   "cell_type": "code",
   "execution_count": 6,
   "metadata": {},
   "outputs": [
    {
     "data": {
      "text/plain": [
       "array([ 3,  5,  7,  9, 11, 13])"
      ]
     },
     "execution_count": 6,
     "metadata": {},
     "output_type": "execute_result"
    }
   ],
   "source": [
    "array_to_reshape.reshape(6,)"
   ]
  },
  {
   "cell_type": "code",
   "execution_count": 7,
   "metadata": {},
   "outputs": [
    {
     "ename": "ValueError",
     "evalue": "cannot reshape array of size 6 into shape (13,)",
     "output_type": "error",
     "traceback": [
      "\u001b[0;31m---------------------------------------------------------------------------\u001b[0m",
      "\u001b[0;31mValueError\u001b[0m                                Traceback (most recent call last)",
      "\u001b[0;32m<ipython-input-7-6cb5299ba3e7>\u001b[0m in \u001b[0;36m<module>\u001b[0;34m()\u001b[0m\n\u001b[0;32m----> 1\u001b[0;31m \u001b[0marray_to_reshape\u001b[0m\u001b[0;34m.\u001b[0m\u001b[0mreshape\u001b[0m\u001b[0;34m(\u001b[0m\u001b[0;36m13\u001b[0m\u001b[0;34m,\u001b[0m\u001b[0;34m)\u001b[0m\u001b[0;34m\u001b[0m\u001b[0m\n\u001b[0m",
      "\u001b[0;31mValueError\u001b[0m: cannot reshape array of size 6 into shape (13,)"
     ]
    }
   ],
   "source": [
    "array_to_reshape.reshape(13,)"
   ]
  },
  {
   "cell_type": "code",
   "execution_count": 9,
   "metadata": {},
   "outputs": [
    {
     "name": "stdout",
     "output_type": "stream",
     "text": [
      "> \u001b[0;32m<ipython-input-8-6cb5299ba3e7>\u001b[0m(1)\u001b[0;36m<module>\u001b[0;34m()\u001b[0m\n",
      "\u001b[0;32m----> 1 \u001b[0;31m\u001b[0marray_to_reshape\u001b[0m\u001b[0;34m.\u001b[0m\u001b[0mreshape\u001b[0m\u001b[0;34m(\u001b[0m\u001b[0;36m13\u001b[0m\u001b[0;34m,\u001b[0m\u001b[0;34m)\u001b[0m\u001b[0;34m\u001b[0m\u001b[0m\n",
      "\u001b[0m\n",
      "ipdb> l\n",
      "\u001b[0;32m----> 1 \u001b[0;31m\u001b[0marray_to_reshape\u001b[0m\u001b[0;34m.\u001b[0m\u001b[0mreshape\u001b[0m\u001b[0;34m(\u001b[0m\u001b[0;36m13\u001b[0m\u001b[0;34m,\u001b[0m\u001b[0;34m)\u001b[0m\u001b[0;34m\u001b[0m\u001b[0m\n",
      "\u001b[0m\n",
      "ipdb> array_to_reshape.reshape(6,)\n",
      "array([ 3,  5,  7,  9, 11, 13])\n",
      "ipdb> c\n"
     ]
    }
   ],
   "source": [
    "%debug"
   ]
  },
  {
   "cell_type": "code",
   "execution_count": null,
   "metadata": {},
   "outputs": [],
   "source": [
    "array_to_reshape.reshape(6,)"
   ]
  },
  {
   "cell_type": "code",
   "execution_count": 10,
   "metadata": {},
   "outputs": [],
   "source": [
    "array_to_reshape2 = np.arange(1, 13)"
   ]
  },
  {
   "cell_type": "code",
   "execution_count": 13,
   "metadata": {},
   "outputs": [
    {
     "data": {
      "text/plain": [
       "array([[ 1,  2,  3],\n",
       "       [ 4,  5,  6],\n",
       "       [ 7,  8,  9],\n",
       "       [10, 11, 12]])"
      ]
     },
     "execution_count": 13,
     "metadata": {},
     "output_type": "execute_result"
    }
   ],
   "source": [
    "array_to_reshape2.shape = (4, 3)\n",
    "array_to_reshape2"
   ]
  },
  {
   "cell_type": "code",
   "execution_count": 14,
   "metadata": {},
   "outputs": [
    {
     "data": {
      "text/plain": [
       "array([[ 1,  2,  3,  4],\n",
       "       [ 5,  6,  7,  8],\n",
       "       [ 9, 10, 11, 12]])"
      ]
     },
     "execution_count": 14,
     "metadata": {},
     "output_type": "execute_result"
    }
   ],
   "source": [
    "array_to_reshape2.shape = (3, 4)\n",
    "array_to_reshape2"
   ]
  },
  {
   "cell_type": "code",
   "execution_count": 15,
   "metadata": {},
   "outputs": [
    {
     "data": {
      "text/plain": [
       "array([[ 1,  2,  3,  4,  5,  6],\n",
       "       [ 7,  8,  9, 10, 11, 12]])"
      ]
     },
     "execution_count": 15,
     "metadata": {},
     "output_type": "execute_result"
    }
   ],
   "source": [
    "array_to_reshape2.shape = (2, 6)\n",
    "array_to_reshape2"
   ]
  },
  {
   "cell_type": "code",
   "execution_count": 111,
   "metadata": {},
   "outputs": [
    {
     "data": {
      "text/plain": [
       "False"
      ]
     },
     "execution_count": 111,
     "metadata": {},
     "output_type": "execute_result"
    }
   ],
   "source": [
    "13 in array_to_reshape2"
   ]
  },
  {
   "cell_type": "markdown",
   "metadata": {},
   "source": [
    "## Operations on data"
   ]
  },
  {
   "cell_type": "markdown",
   "metadata": {},
   "source": [
    "[Transposition](https://en.wikipedia.org/wiki/Transpose)"
   ]
  },
  {
   "cell_type": "code",
   "execution_count": 37,
   "metadata": {},
   "outputs": [],
   "source": [
    "my_array = np.array([\n",
    "                     [1, 2, 3],\n",
    "                     [4, 1, 6], \n",
    "                     [8, 1, 3]\n",
    "                    ]\n",
    "                   )"
   ]
  },
  {
   "cell_type": "code",
   "execution_count": 42,
   "metadata": {},
   "outputs": [
    {
     "data": {
      "text/plain": [
       "array([[ True,  True,  True],\n",
       "       [ True,  True,  True],\n",
       "       [ True,  True,  True]])"
      ]
     },
     "execution_count": 42,
     "metadata": {},
     "output_type": "execute_result"
    }
   ],
   "source": [
    "my_array.T"
   ]
  },
  {
   "cell_type": "code",
   "execution_count": 40,
   "metadata": {},
   "outputs": [
    {
     "data": {
      "text/plain": [
       "array([[1, 4, 8],\n",
       "       [2, 1, 1],\n",
       "       [3, 6, 3]])"
      ]
     },
     "execution_count": 40,
     "metadata": {},
     "output_type": "execute_result"
    }
   ],
   "source": [
    "my_array.transpose()"
   ]
  },
  {
   "cell_type": "code",
   "execution_count": 43,
   "metadata": {},
   "outputs": [
    {
     "data": {
      "text/plain": [
       "array([[ True,  True,  True],\n",
       "       [ True,  True,  True],\n",
       "       [ True,  True,  True]])"
      ]
     },
     "execution_count": 43,
     "metadata": {},
     "output_type": "execute_result"
    }
   ],
   "source": [
    "my_array.T == my_array.transpose()"
   ]
  },
  {
   "cell_type": "code",
   "execution_count": 56,
   "metadata": {},
   "outputs": [
    {
     "data": {
      "text/plain": [
       "False"
      ]
     },
     "execution_count": 56,
     "metadata": {},
     "output_type": "execute_result"
    }
   ],
   "source": [
    "check_of_transpose = my_array.T == np.array([ [1, 4, 8], [2, 1, 1], [3, 6, 4]])\n",
    "check_of_transpose.all()"
   ]
  },
  {
   "cell_type": "markdown",
   "metadata": {},
   "source": [
    "Flatten - reduces table dimensions to one"
   ]
  },
  {
   "cell_type": "code",
   "execution_count": 57,
   "metadata": {},
   "outputs": [
    {
     "name": "stdout",
     "output_type": "stream",
     "text": [
      "[1 2 3 4 5 6]\n"
     ]
    }
   ],
   "source": [
    "my_array = np.array([[1,2,3],\n",
    "                        [4,5,6]])\n",
    "print(my_array.flatten())"
   ]
  },
  {
   "cell_type": "markdown",
   "metadata": {},
   "source": [
    "### Exercise\n",
    "\n",
    "Task\n",
    "\n",
    "You are given a __N x M__ integer array matrix with space separated elements ( **N** = rows and  **M** = columns). \n",
    "Your task is to print the transpose and flatten results.\n",
    "\n",
    "Input Format\n",
    "\n",
    "The first line contains the space separated values of **N** and **M** . \n",
    "The next **N** lines contains the space separated elements of **M** columns.\n",
    "\n",
    "Output Format\n",
    "\n",
    "First, print the transpose array and then print the flatten.\n",
    "\n",
    "ex. input:\n",
    "2 2\n",
    "1 2\n",
    "3 4\n",
    "\n",
    "\n",
    "ex. output\n",
    "\n",
    "[[1 3]\n",
    "\n",
    " [2 4]]\n",
    " \n",
    "[1 2 3 4]"
   ]
  },
  {
   "cell_type": "markdown",
   "metadata": {},
   "source": [
    "Concatenation"
   ]
  },
  {
   "cell_type": "code",
   "execution_count": 83,
   "metadata": {},
   "outputs": [
    {
     "name": "stdout",
     "output_type": "stream",
     "text": [
      "[1 2 3 4 5 6 7 8 9]\n"
     ]
    }
   ],
   "source": [
    "array_1 = np.array([1,2,3])\n",
    "array_2 = np.array([4,5,6])\n",
    "array_3 = np.array([7,8,9])\n",
    "\n",
    "print(np.concatenate((array_1, array_2, array_3)))  "
   ]
  },
  {
   "cell_type": "code",
   "execution_count": 84,
   "metadata": {},
   "outputs": [
    {
     "name": "stdout",
     "output_type": "stream",
     "text": [
      "[[1 2 3 0 0 0]\n",
      " [0 0 0 7 8 9]]\n",
      "[[1 2 3]\n",
      " [0 0 0]\n",
      " [0 0 0]\n",
      " [7 8 9]]\n"
     ]
    }
   ],
   "source": [
    "array_1 = np.array([[1,2,3],[0,0,0]])\n",
    "array_2 = np.array([[0,0,0],[7,8,9]])\n",
    "\n",
    "print(np.concatenate((array_1, array_2), axis = 1)) \n",
    "print(np.concatenate((array_1, array_2), axis = 0)) "
   ]
  },
  {
   "cell_type": "markdown",
   "metadata": {},
   "source": [
    "### Exercise\n",
    "Task\n",
    "\n",
    "You are given two integer arrays of size __N x P__  and __M x P__ ( __N & M__ are rows, and P is the column).\n",
    "Your task is to concatenate the arrays along axis __0__.\n",
    "\n",
    "Input Format\n",
    "\n",
    "The first line contains space separated integers __N, M and P__. \n",
    "The next **N** lines contains the space separated elements of the __P__ columns. \n",
    "After that, the next  lines contains the space separated elements of the  columns.\n",
    "\n",
    "Output Format\n",
    "\n",
    "Print the concatenated array of size **(N+M)*P**."
   ]
  },
  {
   "cell_type": "code",
   "execution_count": 115,
   "metadata": {},
   "outputs": [
    {
     "name": "stdout",
     "output_type": "stream",
     "text": [
      "Sum a and b\n",
      "[ 6.  8. 10. 12.]\n",
      "[ 6.  8. 10. 12.]\n",
      "Substract a and b\n",
      "[-4. -4. -4. -4.]\n",
      "[-4. -4. -4. -4.]\n",
      "Multiplication a and b\n",
      "[ 5. 12. 21. 32.]\n",
      "[ 5. 12. 21. 32.]\n",
      "Division a and b\n",
      "[0.2        0.33333333 0.42857143 0.5       ]\n",
      "[0.2        0.33333333 0.42857143 0.5       ]\n",
      "Mod a and b\n",
      "[1. 2. 3. 4.]\n",
      "[1. 2. 3. 4.]\n",
      "Power a and b\n",
      "[1.0000e+00 6.4000e+01 2.1870e+03 6.5536e+04]\n",
      "[1.0000e+00 6.4000e+01 2.1870e+03 6.5536e+04]\n"
     ]
    }
   ],
   "source": [
    "a = np.array([1,2,3,4], float)\n",
    "b = np.array([5,6,7,8], float)\n",
    "\n",
    "print('Sum a and b')\n",
    "print(a + b)                     #[  6.   8.  10.  12.]\n",
    "print(np.add(a, b))           #[  6.   8.  10.  12.]\n",
    "\n",
    "print('Substract a and b')\n",
    "print(a - b)                     #[-4. -4. -4. -4.]\n",
    "print(np.subtract(a, b))      #[-4. -4. -4. -4.]\n",
    "\n",
    "print('Multiplication a and b')\n",
    "print(a * b)                     #[  5.  12.  21.  32.]\n",
    "print(np.multiply(a, b))      #[  5.  12.  21.  32.]\n",
    "\n",
    "print('Division a and b')\n",
    "print(a / b)                     #[ 0.2         0.33333333  0.42857143  0.5       ]\n",
    "print(np.divide(a, b))        #[ 0.2         0.33333333  0.42857143  0.5       ]\n",
    "\n",
    "print('Mod a and b')\n",
    "print(a % b)                     #[ 1.  2.  3.  4.]\n",
    "print(np.mod(a, b))           #[ 1.  2.  3.  4.]\n",
    "\n",
    "print('Power a and b')\n",
    "print(a**b)                      #[  1.00000000e+00   6.40000000e+01   2.18700000e+03   6.55360000e+04]\n",
    "print(np.power(a, b))         #[  1.00000000e+00   6.40000000e+01   2.18700000e+03   6.55360000e+04]"
   ]
  },
  {
   "cell_type": "markdown",
   "metadata": {},
   "source": [
    "### Exercise\n",
    "Task\n",
    "\n",
    "You are given two integer arrays, A and B of dimensions **N x M**. \n",
    "Your task is to perform the following operations:\n",
    "\n",
    "Add ( + )\n",
    "Subtract ( - )\n",
    "Multiply ( * )\n",
    "Integer Division ( / )\n",
    "Mod ( % )\n",
    "Power ( ** )\n",
    "\n",
    "Input Format\n",
    "\n",
    "The first line contains two space separated integers, **N and M** . \n",
    "\n",
    "The next **N** lines contains  space separated **M** integers of array **A**. \n",
    "\n",
    "The following **N** lines contains **M** space separated integers of array **B**.\n",
    "\n",
    "Output Format\n",
    "\n",
    "Print the result of each operation in the given order under Task."
   ]
  },
  {
   "cell_type": "markdown",
   "metadata": {},
   "source": [
    "#### [Matrix](https://en.wikipedia.org/wiki/Matrix_multiplication) multiplication"
   ]
  },
  {
   "cell_type": "code",
   "execution_count": 118,
   "metadata": {},
   "outputs": [
    {
     "name": "stdout",
     "output_type": "stream",
     "text": [
      "[[5 1]\n",
      " [4 2]]\n",
      "[[ 2  0  6]\n",
      " [ 2 12 20]]\n"
     ]
    }
   ],
   "source": [
    "a = np.array([[ 1,  0,  2],\n",
    "       [-1,  3,  1]])\n",
    "\n",
    "b = np.array([[3, 1],\n",
    "       [2, 1],\n",
    "       [1, 0]])\n",
    "\n",
    "\n",
    "print(a.dot(b))\n",
    "\n",
    "a = np.array([[ 1,  0,  2], [ 2, 3, 4]])\n",
    "b = np.array([[ 2,  3,  3], [ 1, 4, 5]])\n",
    "print(a * b)"
   ]
  },
  {
   "cell_type": "code",
   "execution_count": 113,
   "metadata": {},
   "outputs": [
    {
     "data": {
      "text/plain": [
       "matrix([[5, 1],\n",
       "        [4, 2]])"
      ]
     },
     "execution_count": 113,
     "metadata": {},
     "output_type": "execute_result"
    }
   ],
   "source": [
    "a = np.matrix([[ 1,  0,  2],\n",
    "       [-1,  3,  1]])\n",
    "\n",
    "b = np.matrix([[3, 1],\n",
    "       [2, 1],\n",
    "       [1, 0]])\n",
    "a * b"
   ]
  },
  {
   "cell_type": "code",
   "execution_count": 112,
   "metadata": {},
   "outputs": [
    {
     "data": {
      "text/plain": [
       "array([1, 4])"
      ]
     },
     "execution_count": 112,
     "metadata": {},
     "output_type": "execute_result"
    }
   ],
   "source": [
    "a_array = np.array([1, 2])\n",
    "b_array = np.array([1, 2])\n",
    "\n",
    "a_array * b_array"
   ]
  },
  {
   "cell_type": "code",
   "execution_count": 109,
   "metadata": {},
   "outputs": [],
   "source": [
    "a_matrix = np.matrix([1, 2 ])\n",
    "b_matrix = np.matrix([[1] , [2]])"
   ]
  },
  {
   "cell_type": "code",
   "execution_count": 110,
   "metadata": {},
   "outputs": [
    {
     "data": {
      "text/plain": [
       "matrix([[5]])"
      ]
     },
     "execution_count": 110,
     "metadata": {},
     "output_type": "execute_result"
    }
   ],
   "source": [
    "a_matrix * b_matrix"
   ]
  },
  {
   "cell_type": "markdown",
   "metadata": {},
   "source": [
    "## Functions and math operations"
   ]
  },
  {
   "cell_type": "code",
   "execution_count": 27,
   "metadata": {},
   "outputs": [],
   "source": [
    "a = np.arange(1, 100, 3)"
   ]
  },
  {
   "cell_type": "code",
   "execution_count": 28,
   "metadata": {},
   "outputs": [
    {
     "data": {
      "text/plain": [
       "816.0"
      ]
     },
     "execution_count": 28,
     "metadata": {},
     "output_type": "execute_result"
    }
   ],
   "source": [
    "a.var()"
   ]
  },
  {
   "cell_type": "code",
   "execution_count": 29,
   "metadata": {},
   "outputs": [
    {
     "data": {
      "text/plain": [
       "49.0"
      ]
     },
     "execution_count": 29,
     "metadata": {},
     "output_type": "execute_result"
    }
   ],
   "source": [
    "a.mean()"
   ]
  },
  {
   "cell_type": "code",
   "execution_count": 32,
   "metadata": {},
   "outputs": [
    {
     "data": {
      "text/plain": [
       "(1,\n",
       " 97,\n",
       " array([   1,    5,   12,   22,   35,   51,   70,   92,  117,  145,  176,\n",
       "         210,  247,  287,  330,  376,  425,  477,  532,  590,  651,  715,\n",
       "         782,  852,  925, 1001, 1080, 1162, 1247, 1335, 1426, 1520, 1617]))"
      ]
     },
     "execution_count": 32,
     "metadata": {},
     "output_type": "execute_result"
    }
   ],
   "source": [
    "a.min(), a.max(), a.cumsum()"
   ]
  },
  {
   "cell_type": "markdown",
   "metadata": {},
   "source": [
    "### Floor"
   ]
  },
  {
   "cell_type": "code",
   "execution_count": 242,
   "metadata": {},
   "outputs": [
    {
     "name": "stdout",
     "output_type": "stream",
     "text": [
      "[1. 2. 3. 4. 5. 6. 7. 8. 9.]\n"
     ]
    }
   ],
   "source": [
    "my_array = np.array([1.1, 2.2, 3.3, 4.4, 5.5, 6.6, 7.7, 8.8, 9.9])\n",
    "print(np.floor(my_array))         #[ 1.  2.  3.  4.  5.  6.  7.  8.  9.]"
   ]
  },
  {
   "cell_type": "markdown",
   "metadata": {},
   "source": [
    "### Ceil"
   ]
  },
  {
   "cell_type": "code",
   "execution_count": 243,
   "metadata": {},
   "outputs": [
    {
     "name": "stdout",
     "output_type": "stream",
     "text": [
      "[ 2.  3.  4.  5.  6.  7.  8.  9. 10.]\n"
     ]
    }
   ],
   "source": [
    "import numpy\n",
    "\n",
    "my_array = np.array([1.1, 2.2, 3.3, 4.4, 5.5, 6.6, 7.7, 8.8, 9.9])\n",
    "print(np.ceil(my_array))          #[  2.   3.   4.   5.   6.   7.   8.   9.  10.]"
   ]
  },
  {
   "cell_type": "markdown",
   "metadata": {},
   "source": [
    "### Exercise\n",
    "\n",
    "Task \n",
    "You are given a 1-D array, . Your task is to print the floor,  and ceil  of all the elements of array A.\n",
    "\n",
    "Input Format\n",
    "\n",
    "A single line of input containing the space separated elements of array .\n",
    "\n",
    "Output Format\n",
    "\n",
    "On the first line, print the floor of A. \n",
    "On the second line, print the ceil of A. \n"
   ]
  },
  {
   "cell_type": "markdown",
   "metadata": {},
   "source": [
    "### Sum"
   ]
  },
  {
   "cell_type": "code",
   "execution_count": 244,
   "metadata": {},
   "outputs": [
    {
     "name": "stdout",
     "output_type": "stream",
     "text": [
      "[4 6]\n",
      "[3 7]\n",
      "10\n",
      "10\n"
     ]
    }
   ],
   "source": [
    "my_array = np.array([ [1, 2], [3, 4] ])\n",
    "\n",
    "print(np.sum(my_array, axis = 0))         #Output : [4 6]\n",
    "print(np.sum(my_array, axis = 1))         #Output : [3 7]\n",
    "print(np.sum(my_array, axis = None))      #Output : 10\n",
    "print(np.sum(my_array))                   #Output : 10"
   ]
  },
  {
   "cell_type": "markdown",
   "metadata": {},
   "source": [
    "### Prod"
   ]
  },
  {
   "cell_type": "code",
   "execution_count": 245,
   "metadata": {},
   "outputs": [
    {
     "name": "stdout",
     "output_type": "stream",
     "text": [
      "[3 8]\n",
      "[ 2 12]\n",
      "24\n",
      "24\n"
     ]
    }
   ],
   "source": [
    "my_array = numpy.array([ [1, 2], [3, 4] ])\n",
    "\n",
    "print(np.prod(my_array, axis = 0))            #Output : [3 8]\n",
    "print(np.prod(my_array, axis = 1))            #Output : [ 2 12]\n",
    "print(np.prod(my_array, axis = None))         #Output : 24\n",
    "print(np.prod(my_array))                      #Output : 24"
   ]
  },
  {
   "cell_type": "markdown",
   "metadata": {},
   "source": [
    "### Exercise\n",
    "Task\n",
    "\n",
    "You are given a 2-D array with dimensions N x M. \n",
    "Your task is to perform the sum tool over axis 0 and then find the product of that result.\n",
    "\n",
    "Input Format\n",
    "\n",
    "The first line of input contains space separated values of N and M. \n",
    "The next N lines contains M space separated integers.\n",
    "\n",
    "Output Format\n",
    "\n",
    "Compute the sum along axis 0 . Then, print the product of that sum."
   ]
  },
  {
   "cell_type": "code",
   "execution_count": 87,
   "metadata": {},
   "outputs": [],
   "source": [
    "# np.abs(a)\tAbsolute value.\n",
    "# np.arccos(a)\tInverse cosine.\n",
    "# np.arcsin(a)\tInverse sine.\n",
    "# np.arctan(a)\tInverse tangent.\n",
    "# np.arctan2(y, x)\tComputes the arctangent of the slope whose Δy is y and whose Δx is x.\n",
    "# np.cos(a)\tCosine.\n",
    "# np.exp(a)\tExponential, ea.\n",
    "# np.log(a)\tNatural log.\n",
    "# np.log10(a)\tCommon log (base 10).\n",
    "# np.sin(a)\tSine.\n",
    "# np.sqrt(a)\tSquare root.\n",
    "# np.tan(a)\tTangent."
   ]
  },
  {
   "cell_type": "markdown",
   "metadata": {},
   "source": [
    "## Polynomials"
   ]
  },
  {
   "cell_type": "markdown",
   "metadata": {},
   "source": [
    "The equation used depends on whether the the value of  \n",
    "$Ax^3+Bx^2+Cx+D$"
   ]
  },
  {
   "cell_type": "code",
   "execution_count": 207,
   "metadata": {},
   "outputs": [],
   "source": [
    "coeff = [3, -2, 0]"
   ]
  },
  {
   "cell_type": "code",
   "execution_count": 208,
   "metadata": {},
   "outputs": [
    {
     "data": {
      "text/plain": [
       "array([0.66666667, 0.        ])"
      ]
     },
     "execution_count": 208,
     "metadata": {},
     "output_type": "execute_result"
    }
   ],
   "source": [
    "np.roots(coeff)"
   ]
  },
  {
   "cell_type": "code",
   "execution_count": 213,
   "metadata": {},
   "outputs": [],
   "source": [
    "coeff = [12, -2, 1, 19]"
   ]
  },
  {
   "cell_type": "code",
   "execution_count": 215,
   "metadata": {},
   "outputs": [
    {
     "data": {
      "text/plain": [
       "array([36, -4,  1])"
      ]
     },
     "execution_count": 215,
     "metadata": {},
     "output_type": "execute_result"
    }
   ],
   "source": [
    "np.polyder(coeff) # 12x^3 - 2x^2 + x + 19"
   ]
  },
  {
   "cell_type": "code",
   "execution_count": 217,
   "metadata": {},
   "outputs": [
    {
     "data": {
      "text/plain": [
       "array([3.63299316, 0.36700684])"
      ]
     },
     "execution_count": 217,
     "metadata": {},
     "output_type": "execute_result"
    }
   ],
   "source": [
    "np.roots([3, -12, 4])"
   ]
  },
  {
   "cell_type": "code",
   "execution_count": 232,
   "metadata": {},
   "outputs": [
    {
     "data": {
      "text/plain": [
       "Text(0.5,1,'Polynomial with Matplotlib')"
      ]
     },
     "execution_count": 232,
     "metadata": {},
     "output_type": "execute_result"
    },
    {
     "data": {
      "image/png": "[encoded data removed]",
      "text/plain": [
       "<Figure size 432x288 with 1 Axes>"
      ]
     },
     "metadata": {
      "needs_background": "light"
     },
     "output_type": "display_data"
    }
   ],
   "source": [
    "import matplotlib.pyplot as plt\n",
    "\n",
    "coeff = [-1, 3, 4] # -x^2 + 3x + 4\n",
    "x = np.linspace(-20, 20, 90)\n",
    "\n",
    "plt.plot(x, np.polyval(coeff ,x))\n",
    "plt.plot([np.roots(coeff)], [0], 'x')\n",
    "plt.title('Polynomial with Matplotlib')"
   ]
  }
 ],
 "metadata": {
  "kernelspec": {
   "display_name": "Python 3",
   "language": "python",
   "name": "python3"
  },
  "language_info": {
   "codemirror_mode": {
    "name": "ipython",
    "version": 3
   },
   "file_extension": ".py",
   "mimetype": "text/x-python",
   "name": "python",
   "nbconvert_exporter": "python",
   "pygments_lexer": "ipython3",
   "version": "3.7.0"
  }
 },
 "nbformat": 4,
 "nbformat_minor": 2
}
